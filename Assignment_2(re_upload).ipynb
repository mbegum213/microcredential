{
  "nbformat": 4,
  "nbformat_minor": 0,
  "metadata": {
    "colab": {
      "name": "Assignment 2(re-upload)",
      "provenance": [],
      "collapsed_sections": [],
      "authorship_tag": "ABX9TyNLr53HeqJ2i2c6fULofYef",
      "include_colab_link": true
    },
    "kernelspec": {
      "name": "python3",
      "display_name": "Python 3"
    },
    "language_info": {
      "name": "python"
    }
  },
  "cells": [
    {
      "cell_type": "markdown",
      "metadata": {
        "id": "view-in-github",
        "colab_type": "text"
      },
      "source": [
        "<a href=\"https://colab.research.google.com/github/mbegum213/microcredential/blob/main/Assignment_2(re_upload).ipynb\" target=\"_parent\"><img src=\"https://colab.research.google.com/assets/colab-badge.svg\" alt=\"Open In Colab\"/></a>"
      ]
    },
    {
      "cell_type": "markdown",
      "source": [
        "1. Create a list of 5 of your favorite tv shows."
      ],
      "metadata": {
        "id": "AkjZOc4QrdyU"
      }
    },
    {
      "cell_type": "code",
      "source": [
        "movie=[\"Harry Potter\", \"Howl's Moving Castle\", \"Split\",\"Up\", \"Home\"]"
      ],
      "metadata": {
        "id": "0pml0AwTrfpK"
      },
      "execution_count": null,
      "outputs": []
    },
    {
      "cell_type": "markdown",
      "source": [
        "2. Print the list in its original order."
      ],
      "metadata": {
        "id": "XS6gyVpdrgHe"
      }
    },
    {
      "cell_type": "code",
      "source": [
        "movie"
      ],
      "metadata": {
        "colab": {
          "base_uri": "https://localhost:8080/"
        },
        "id": "KXkhUboxrmxn",
        "outputId": "bfd9cc14-c3f1-4ae2-ca23-3623a4c950ec"
      },
      "execution_count": null,
      "outputs": [
        {
          "output_type": "execute_result",
          "data": {
            "text/plain": [
              "['Harry Potter', \"Howl's Moving Castle\", 'Split', 'Up', 'Home']"
            ]
          },
          "metadata": {},
          "execution_count": 9
        }
      ]
    },
    {
      "cell_type": "markdown",
      "source": [
        "3. Use the sorted() function to print the list in alphabetical order. How is sorted() different from\n",
        "sort()?\n",
        "\n",
        "sorted() retains the original order of the list outside of this function"
      ],
      "metadata": {
        "id": "EhCDxjP-rqZ4"
      }
    },
    {
      "cell_type": "markdown",
      "source": [
        ""
      ],
      "metadata": {
        "id": "FAB0vbrMxAL1"
      }
    },
    {
      "cell_type": "code",
      "source": [
        "sorted(movie)"
      ],
      "metadata": {
        "colab": {
          "base_uri": "https://localhost:8080/"
        },
        "id": "QcdoRySGuL-G",
        "outputId": "ab6069a3-8482-404a-8a33-ea36301f7670"
      },
      "execution_count": null,
      "outputs": [
        {
          "output_type": "execute_result",
          "data": {
            "text/plain": [
              "['Harry Potter', 'Home', \"Howl's Moving Castle\", 'Split', 'Up']"
            ]
          },
          "metadata": {},
          "execution_count": 10
        }
      ]
    },
    {
      "cell_type": "markdown",
      "source": [
        "4. Print out your original list."
      ],
      "metadata": {
        "id": "aJoHio0CuGVz"
      }
    },
    {
      "cell_type": "code",
      "source": [
        "movie"
      ],
      "metadata": {
        "colab": {
          "base_uri": "https://localhost:8080/"
        },
        "id": "BbWem5aUuF2P",
        "outputId": "7a424b2f-bbc8-48cf-b1f9-5b6076865441"
      },
      "execution_count": null,
      "outputs": [
        {
          "output_type": "execute_result",
          "data": {
            "text/plain": [
              "['Harry Potter', \"Howl's Moving Castle\", 'Split', 'Up', 'Home']"
            ]
          },
          "metadata": {},
          "execution_count": 11
        }
      ]
    },
    {
      "cell_type": "markdown",
      "source": [
        "5. Used sorted() to print your list in reverse alphabetical order.\n",
        "\n"
      ],
      "metadata": {
        "id": "gVtQkS_puMw1"
      }
    },
    {
      "cell_type": "code",
      "source": [
        "sorted(movie,reverse=True)"
      ],
      "metadata": {
        "colab": {
          "base_uri": "https://localhost:8080/"
        },
        "id": "4LY3E0SbuRFL",
        "outputId": "a2ce36ee-c612-44d6-f057-464d58486d80"
      },
      "execution_count": null,
      "outputs": [
        {
          "output_type": "execute_result",
          "data": {
            "text/plain": [
              "['Up', 'Split', \"Howl's Moving Castle\", 'Home', 'Harry Potter']"
            ]
          },
          "metadata": {},
          "execution_count": 19
        }
      ]
    },
    {
      "cell_type": "markdown",
      "source": [
        "6. Create a message indicating how many favorite TV shows you have – use the len() function."
      ],
      "metadata": {
        "id": "1PAWB7cruRoe"
      }
    },
    {
      "cell_type": "code",
      "source": [
        "print(\"I have \", len(movie),\"favorite movies\")"
      ],
      "metadata": {
        "colab": {
          "base_uri": "https://localhost:8080/"
        },
        "id": "fnWPLBLquVXF",
        "outputId": "17d71a85-d051-448f-a753-00f5768bd91a"
      },
      "execution_count": null,
      "outputs": [
        {
          "output_type": "stream",
          "name": "stdout",
          "text": [
            "I have  5 favorite movies\n"
          ]
        }
      ]
    },
    {
      "cell_type": "markdown",
      "source": [
        ""
      ],
      "metadata": {
        "id": "4MhgMFWPrnPS"
      }
    }
  ]
}