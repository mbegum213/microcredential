{
  "nbformat": 4,
  "nbformat_minor": 0,
  "metadata": {
    "colab": {
      "name": "Tableau",
      "provenance": [],
      "authorship_tag": "ABX9TyMamrQJrg0JI7CYHnbhW++u",
      "include_colab_link": true
    },
    "kernelspec": {
      "name": "python3",
      "display_name": "Python 3"
    },
    "language_info": {
      "name": "python"
    }
  },
  "cells": [
    {
      "cell_type": "markdown",
      "metadata": {
        "id": "view-in-github",
        "colab_type": "text"
      },
      "source": [
        "<a href=\"https://colab.research.google.com/github/mbegum213/microcredential/blob/main/Tableau.ipynb\" target=\"_parent\"><img src=\"https://colab.research.google.com/assets/colab-badge.svg\" alt=\"Open In Colab\"/></a>"
      ]
    },
    {
      "cell_type": "markdown",
      "source": [
        "https://public.tableau.com/app/profile/marjahan.begum/viz/GameofThrones_16608294144930/GameofThrones?publish=yes "
      ],
      "metadata": {
        "id": "6gTY7F6TK10Q"
      }
    }
  ]
}